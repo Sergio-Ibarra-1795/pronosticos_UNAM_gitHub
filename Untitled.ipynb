{
 "cells": [
  {
   "cell_type": "code",
   "execution_count": 1,
   "id": "cd73865c",
   "metadata": {},
   "outputs": [
    {
     "data": {
      "text/plain": [
       "540"
      ]
     },
     "execution_count": 1,
     "metadata": {},
     "output_type": "execute_result"
    }
   ],
   "source": [
    "90 + 100 + 130 +110 +110 "
   ]
  },
  {
   "cell_type": "code",
   "execution_count": 2,
   "id": "016cca1a",
   "metadata": {},
   "outputs": [
    {
     "data": {
      "text/plain": [
       "108.0"
      ]
     },
     "execution_count": 2,
     "metadata": {},
     "output_type": "execute_result"
    }
   ],
   "source": [
    "540/5"
   ]
  },
  {
   "cell_type": "code",
   "execution_count": null,
   "id": "5f126d30",
   "metadata": {},
   "outputs": [],
   "source": []
  },
  {
   "cell_type": "code",
   "execution_count": 3,
   "id": "fc37843e",
   "metadata": {},
   "outputs": [
    {
     "data": {
      "text/plain": [
       "122.0"
      ]
     },
     "execution_count": 3,
     "metadata": {},
     "output_type": "execute_result"
    }
   ],
   "source": [
    "(110 + 110 + 130 +140 +120 ) / 5"
   ]
  },
  {
   "cell_type": "code",
   "execution_count": null,
   "id": "d6be98be",
   "metadata": {},
   "outputs": [],
   "source": []
  },
  {
   "cell_type": "code",
   "execution_count": 4,
   "id": "7028edbc",
   "metadata": {},
   "outputs": [
    {
     "data": {
      "text/plain": [
       "122.0"
      ]
     },
     "execution_count": 4,
     "metadata": {},
     "output_type": "execute_result"
    }
   ],
   "source": [
    "(110 + 130 + 140 +120 +110 ) / 5"
   ]
  },
  {
   "cell_type": "code",
   "execution_count": null,
   "id": "bb9a2037",
   "metadata": {},
   "outputs": [],
   "source": []
  },
  {
   "cell_type": "code",
   "execution_count": 5,
   "id": "2f8e4b55",
   "metadata": {},
   "outputs": [
    {
     "data": {
      "text/plain": [
       "0.8490566037735849"
      ]
     },
     "execution_count": 5,
     "metadata": {},
     "output_type": "execute_result"
    }
   ],
   "source": [
    "90/106"
   ]
  },
  {
   "cell_type": "code",
   "execution_count": 8,
   "id": "3c08f987",
   "metadata": {},
   "outputs": [
    {
     "data": {
      "text/plain": [
       "173.23839999999998"
      ]
     },
     "execution_count": 8,
     "metadata": {},
     "output_type": "execute_result"
    }
   ],
   "source": [
    "(94.49 + (4.65*23) )*0.86"
   ]
  },
  {
   "cell_type": "code",
   "execution_count": null,
   "id": "ca737f8a",
   "metadata": {},
   "outputs": [],
   "source": []
  },
  {
   "cell_type": "code",
   "execution_count": 9,
   "id": "bc2f2244",
   "metadata": {},
   "outputs": [
    {
     "data": {
      "text/plain": [
       "214.33360000000002"
      ]
     },
     "execution_count": 9,
     "metadata": {},
     "output_type": "execute_result"
    }
   ],
   "source": [
    "(94.49 + (4.65*24) )*1.04"
   ]
  },
  {
   "cell_type": "code",
   "execution_count": null,
   "id": "494a2531",
   "metadata": {},
   "outputs": [],
   "source": [
    "(94.49 + (4.65*1) )*1"
   ]
  },
  {
   "cell_type": "code",
   "execution_count": null,
   "id": "57104b39",
   "metadata": {},
   "outputs": [],
   "source": []
  }
 ],
 "metadata": {
  "kernelspec": {
   "display_name": "Python 3 (ipykernel)",
   "language": "python",
   "name": "python3"
  },
  "language_info": {
   "codemirror_mode": {
    "name": "ipython",
    "version": 3
   },
   "file_extension": ".py",
   "mimetype": "text/x-python",
   "name": "python",
   "nbconvert_exporter": "python",
   "pygments_lexer": "ipython3",
   "version": "3.9.13"
  }
 },
 "nbformat": 4,
 "nbformat_minor": 5
}
